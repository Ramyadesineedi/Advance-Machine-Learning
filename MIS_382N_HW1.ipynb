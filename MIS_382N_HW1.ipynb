{
 "cells": [
  {
   "cell_type": "markdown",
   "metadata": {
    "id": "evHVxwk2JA-3"
   },
   "source": [
    "# <p style=\"text-align: center;\">MIS 382N: Advanced Machine Learning</p>\n",
    "# <p style=\"text-align: center;\">Homework 1</p>\n",
    "## <p style=\"text-align: center;\">Total points: 55</p>\n",
    "## <p style=\"text-align: center;\">Due: Wednesday, Sep 8 submitted via Canvas by 11:59 pm</p>\n",
    "\n",
    "Your homework should be written in a **Jupyter notebook**. Please make sure your code runs and the graphics (and anything else) are displayed in your notebook before submitting (%matplotlib inline). **This can be an individual assignment or group of 2. If you choose to do it as a group, please specify who you are working with (name and EID), then only one student should submit the homework.**\n",
    "\n",
    "**Note: Notebooks MUST have the images embedded in them. There will be no regrades if attached images do not render in the notebook. Please re download from canvas after submission and make sure all attached images render without errors. (Hint: Image module from IPython.display)**"
   ]
  },
  {
   "cell_type": "markdown",
   "metadata": {},
   "source": [
    "### Submitted by Ramya Madhuri Desineedi (rd32895) and Soumya Swarupa Nayak(sn25829)"
   ]
  },
  {
   "cell_type": "markdown",
   "metadata": {
    "id": "TWWU_gOSLEEv"
   },
   "source": [
    "# Question 1: MLOps (10 pts)\n",
    "Read this [article](https://towardsdatascience.com/what-is-mlops-everything-you-must-know-to-get-started-523f2d0b8bd8) \"What is MLOps — Everything You Must Know to Get Started\", which gives a quick walkthrough of the machine learning development lifecycle and explains how MLOps come into play, or watch this [video](https://www.youtube.com/watch?v=06-AZXmwHjo) which you may find interesting.\n",
    "\n",
    "1. (**4 pts**) Use your own words to describe what MLOps is, and what challenges MLOps address. Limit your answer to one paragraph.\n",
    "\n",
    "2. (**6 pts**) Describe what the main phases in MLOps are. Your answer should be 2-3 paragraphs.\n",
    "\n",
    "\n",
    "## Answer:"
   ]
  },
  {
   "cell_type": "markdown",
   "metadata": {},
   "source": [
    "1. MLOps is a set of practices for collaboration and communication between data scientists and operations professionals (development and deployment teams) aiming to bring them together to streamline the continuous delivery of high-performing models in production. It’s deeply collaborative in nature, designed to eliminate waste, automate as much as possible, and produce richer, more consistent insights with machine learning. \n",
    "\n",
    "    Major challenges MLOps addresses are:\n",
    "* combining expertise of business and data teams for more efficient ML \n",
    "* bridging communication gap between operations and data teams\n",
    "* putting operations team at the forefront of new regulations and best practices"
   ]
  },
  {
   "cell_type": "markdown",
   "metadata": {},
   "source": [
    "2. Main Phases in MLOps are:\n",
    "    1. Framing ML problems from business objectives\n",
    "    2. Architect ML and data solutions for the problem\n",
    "    3. Data preparation and processing \n",
    "    4. Model training and experimentation\n",
    "    5. Building and automating ML pipelines\n",
    "    6. Deploying models to the production system\n",
    "    7. Monitor, optimize and maintain models"
   ]
  },
  {
   "cell_type": "markdown",
   "metadata": {
    "id": "wusA9L1LmUMH"
   },
   "source": [
    "# Question 2: Applications of Machine Learning (5 pts)\n",
    "Read this [article](https://builtin.com/data-science/data-science-applications-examples) \"17 Data Science Applications & Examples\" and pick one of the data science systems used by various organizations according to this blog. \n",
    "\n",
    "For this system you have chosen, answer the following questions. Please limit your answer to one paragraph:\n",
    "\n",
    "1. What kind of machine learning problem is involved (e.g. classification, regression, clustering, outlier detection,...) in this system?\n",
    "2. Speculate on what kind of data may be needed and how the results can be useful to the organization.\n",
    "3. What do you think are the ethical implications of using machine learning in a domain like this?\n",
    "\n",
    "## Answer:"
   ]
  },
  {
   "cell_type": "markdown",
   "metadata": {},
   "source": [
    "\n",
    "Part 1 - \n",
    "Cancer care recommendations by Oncora Medical\n",
    "•\tWhat kind of machine learning problem is involved (e.g., classification, regression, clustering, outlier detection) in this system?\n",
    "Oncora’s algorithm investigates past on diagnosis, treatment plans, outcomes, and side effects, and based on this suggests personalized treatment recommendations such as chemotherapy and radiation regimens for current patients. So, this is a predictive analytics problem involving regression, which provides the probability that a tumor will respond to a given therapy.\n"
   ]
  },
  {
   "cell_type": "markdown",
   "metadata": {},
   "source": [
    "Part 2 - \n",
    "Past patient data will be required. This may include:\n",
    "1.\tPatient details such as patient ID, age\n",
    "2.\tCancer type\n",
    "3.\tDiagnosis data\n",
    "4.\tGenetic factors\n",
    "5.\tElectronic health records\n",
    "6.\tTreatment plan of patients such as treatment type, treatment year, treatment days\n",
    "7.\tSide effects, disease post-surgery\n",
    "8.\tType of therapy\n",
    "9.\tOutcome\n"
   ]
  },
  {
   "cell_type": "markdown",
   "metadata": {},
   "source": [
    "Part 3 - \n",
    "There is always ethical implication involved with healthcare due to regulations and the sensitivity of information.\n",
    "•\tOne ethical implication is using highly private and confidential patient information and the associated risk.\n",
    "•\tThe training data can be biased and feeding biased data into ML systems can lead to biased outputs. So, these biases will be reinforced unless human choices are made to counter it. Therefore, ethical AI development programs are strongly focused on reducing bias.  \n",
    "•\tThe AI system will require large quantity of good-quality sensitive data for training. So proper ownership, consent for use for data and protecting data against leakage become more critical. If the system is not compliant, it will raise ethical issues on how the data is being used. \n",
    "\n"
   ]
  },
  {
   "cell_type": "markdown",
   "metadata": {
    "id": "2w8za9lLmVO7"
   },
   "source": [
    "# Question 3: Simpson's Paradox (10 pts)\n",
    "A data scientist should be careful about drawing unwarranted conclusions about any data that is presented. One of the 'gotchas' that can happen even in apparently very simple tabular summaries, is called Simpson's paradox.\n",
    "\n",
    "Read this [article](https://www.covid-datascience.com/post/israeli-data-how-can-efficacy-vs-severe-disease-be-strong-when-60-of-hospitalized-are-vaccinated), which explains why the computed efficacy of the Pfizer vaccine is misleadingly low (67.5%) when you lump all people together, but once you stratify people by age (which is the right thing to do), you get much higher efficacy numbers.\n",
    "\n",
    "1.(**5 pts**) Explain in your own words what Simpson's paradox is, and how this 'paradox' can happen in real data.\n",
    "\n",
    "2.(**5 pts**) Find and mention another example of Simpson's paradox (but not any of the 3 examples given in the Wikipedia entry for 'Simpson's paradox'), state why the paradox appeared in your chosen example. Also give a reference (URL) to your source for the chosen example.\n",
    "\n",
    "## Answer:"
   ]
  },
  {
   "cell_type": "markdown",
   "metadata": {},
   "source": [
    "Part 1 - \n",
    "Simpson’s paradox occurs when two opposite conclusions are derived from the same data depending on how the data is divided. So, the total dataset shows one trend, but the trend is reversed or disappears when the data is divided into groups. \n",
    "Simpson’s paradox can happen in real life when we can observe different trends based on the attributes by which we segment the data. For understanding the paradox, we need to be able to see beyond the data and interpret it with respect to the real world. When we tend to oversimplify the data; there can be some hidden variables referred to as lurking variables that have not been taken into consideration and can lead to different conclusion. \n",
    "There can be multiple variables in the data by which we can segment the data. We need to know what we are looking for and choose the best data-viewpoint that provides a fair representation of the truth.\t\t\n"
   ]
  },
  {
   "cell_type": "markdown",
   "metadata": {},
   "source": [
    "Part 2 - Example of Simpson’s paradox: US median wage decline\n",
    "Data shows that the median US wage has risen about 1% (adjusted for inflation) since 2000. But when the data is divided by educational qualification the median wage has decreased in each subgroup.\n",
    "\n",
    "| Educational qualification | Median change in real weekly wages (2000-2013) |\n",
    "| --- | --- |\n",
    "| Total | +0.9% |\n",
    "| High school dropouts | -7.9%|\n",
    "| High school graduates, no college | -4.7% |\n",
    "| Some college | -7.6% |\n",
    "| Bachelor’s or higher | -1.2% |\n",
    "\n",
    "\n",
    "Explanation:\n",
    "The relative size of the subgroups has changed since 2000, there were more college graduates in 2013 than there were in 2000 and there were fewer employees with a high school education or less. So, it means there were more employees with higher wage in the workforce in the overall total than there had been in 2000. \n",
    "\n",
    "\n",
    "The wages for college graduates collectively have fallen at a much slower rate (down 1.2%) than for those of lower educational attainment (such as wages for high school dropouts has fallen 7.9%). The growth in the proportion of college graduates in the total workforce swamps the wage decline for specific groups, leading to an overall median wage increase by 1.2%.\n",
    "\n",
    "\n",
    "\n",
    "Reference URL:\n",
    "https://blog.revolutionanalytics.com/2013/07/a-great-example-of-simpsons-paradox.html\n",
    "https://economix.blogs.nytimes.com/2013/05/01/can-every-group-be-worse-than-average-yes/"
   ]
  },
  {
   "cell_type": "markdown",
   "metadata": {
    "id": "gth0D8jiMBSe"
   },
   "source": [
    "# Question 4: Ridge and Lasso Regression (30 pts)\n",
    "\n",
    "Download the dataset **Admission.csv** from Canvas and use the following codes to import the Admission dataset in Python. \n",
    "\n",
    "There are 7 features in the dataset:\n",
    "\n",
    "1. GRE score\n",
    "2. TOEFL score\n",
    "3. University Rating\n",
    "4. SOP(Statement of Purpose)\n",
    "5. LOR(Letter of Recommendation)\n",
    "6. CGPA\n",
    "7. Research\n",
    "\n",
    "And the target is **Chance of Admission**."
   ]
  },
  {
   "cell_type": "markdown",
   "metadata": {
    "id": "pKq1KERxJw9y"
   },
   "source": [
    "1)(**2 pts**) Split the data into a training set(75% of data) and a test set(25% of data), using the [train_test_split](https://scikit-learn.org/stable/modules/generated/sklearn.model_selection.train_test_split.html) function with random_state = 50. Then scale the data (not including target) so that each of the independent variables would have zero mean and unit variance. You can use the [sklearn.preprocessing.scale](https://scikit-learn.org/stable/modules/generated/sklearn.preprocessing.scale.html) function for this. Print the first 5 rows of the training set after scaling.\n",
    "\n",
    "2)(**5 pts**) Use [sklearn.linear_model.Lasso](https://scikit-learn.org/stable/modules/generated/sklearn.linear_model.Lasso.html) and [sklearn.linear_model.Ridge](https://scikit-learn.org/stable/modules/generated/sklearn.linear_model.Ridge.html) classes to do a **5-fold** cross validation using sklearn's KFold. For the sweep of the regularization parameter, we will look at a grid of values ranging from α=10^10 to α=10^−6. In Python, you can consider this range of values as follows: alpha = 10**numpy.linspace(6,-6,100) \n",
    "so that you can generate 100 uniform values between -6 to 6 as power series.\n",
    "\n",
    "Fit the 2 regression models with scaled data and report the best chosen **α** based on cross validation as well as the corresponding scoring metric. The cross validation should happen on your training data using **MSE** as the scoring metric.\n",
    "\n",
    "3)(**5 pts**) Run ridge and lasso regression for all of the **α** specified above (on training data), and plot the coefficients learned for each of them - there should be one plot each for lasso and ridge, so a total of two plots; different features' weights of each model should be on the same plot with different colors (3pts). \n",
    "\n",
    "What do you qualitatively observe when the value of the regularization parameter changes (2pts)? \n",
    "\n",
    "4)(**3 pts**) Take the exponential of Y_train as the target, and fit the 2 regression models again. Report the best chosen **α** based on cross validation as well as the corresponding scoring metric. Compare the results of using the original target with the results of using the exponential of the target. What do you observe? \n",
    "\n",
    "5)(**5 pts**) Similarly, use [sklearn.linear_model.ElasticNet](https://scikit-learn.org/stable/modules/generated/sklearn.linear_model.ElasticNet.html) to do linear regression with different **α** values, and plot the coefficients learned for each of them (2pts). Observe the plot, then explain the pros and cons of ridge, lasso and Elastic Net models (3pts).\n",
    "\n",
    "\n",
    "6)(**5 pts**) Run the following three regression models with **MSE** loss on the training data: \n",
    "\n",
    "a. linear regression without regularization (1pts)\n",
    "\n",
    "b. linear regression with ridge regularization (2pts)\n",
    "\n",
    "c. linear regression with lasso regularization (2pts)\n",
    "\n",
    "For part (b) and (c), use only the best regularization parameters. Report the MSE and R<sup>2</sup> on the test data for each model.\n",
    "\n",
    "7)(**5 pts**) Train the 3 models and report the metrics with the original data without scaling (3pts). \n",
    "\n",
    "Why do we need to scale the data before regularization (2pts)? \n",
    "\n",
    "## Answer:\n"
   ]
  },
  {
   "cell_type": "markdown",
   "metadata": {},
   "source": [
    "1)(2 pts) Split the data into a training set(75% of data) and a test set(25% of data), using the train_test_split function with random_state = 50. Then scale the data (not including target) so that each of the independent variables would have zero mean and unit variance. You can use the sklearn.preprocessing.scale function for this. Print the first 5 rows of the training set after scaling."
   ]
  },
  {
   "cell_type": "code",
   "execution_count": 26,
   "metadata": {
    "id": "xsPaOOehGuU6"
   },
   "outputs": [
    {
     "data": {
      "text/html": [
       "<div>\n",
       "<style scoped>\n",
       "    .dataframe tbody tr th:only-of-type {\n",
       "        vertical-align: middle;\n",
       "    }\n",
       "\n",
       "    .dataframe tbody tr th {\n",
       "        vertical-align: top;\n",
       "    }\n",
       "\n",
       "    .dataframe thead th {\n",
       "        text-align: right;\n",
       "    }\n",
       "</style>\n",
       "<table border=\"1\" class=\"dataframe\">\n",
       "  <thead>\n",
       "    <tr style=\"text-align: right;\">\n",
       "      <th></th>\n",
       "      <th>GRE_Score</th>\n",
       "      <th>TOEFL_Score</th>\n",
       "      <th>University_Rating</th>\n",
       "      <th>SOP</th>\n",
       "      <th>LOR</th>\n",
       "      <th>CGPA</th>\n",
       "      <th>Research</th>\n",
       "      <th>Chance_of_Admit</th>\n",
       "    </tr>\n",
       "    <tr>\n",
       "      <th>Serial No.</th>\n",
       "      <th></th>\n",
       "      <th></th>\n",
       "      <th></th>\n",
       "      <th></th>\n",
       "      <th></th>\n",
       "      <th></th>\n",
       "      <th></th>\n",
       "      <th></th>\n",
       "    </tr>\n",
       "  </thead>\n",
       "  <tbody>\n",
       "    <tr>\n",
       "      <th>1</th>\n",
       "      <td>337</td>\n",
       "      <td>118</td>\n",
       "      <td>4</td>\n",
       "      <td>4.5</td>\n",
       "      <td>4.5</td>\n",
       "      <td>9.65</td>\n",
       "      <td>1</td>\n",
       "      <td>0.92</td>\n",
       "    </tr>\n",
       "    <tr>\n",
       "      <th>2</th>\n",
       "      <td>324</td>\n",
       "      <td>107</td>\n",
       "      <td>4</td>\n",
       "      <td>4.0</td>\n",
       "      <td>4.5</td>\n",
       "      <td>8.87</td>\n",
       "      <td>1</td>\n",
       "      <td>0.76</td>\n",
       "    </tr>\n",
       "    <tr>\n",
       "      <th>3</th>\n",
       "      <td>316</td>\n",
       "      <td>104</td>\n",
       "      <td>3</td>\n",
       "      <td>3.0</td>\n",
       "      <td>3.5</td>\n",
       "      <td>8.00</td>\n",
       "      <td>1</td>\n",
       "      <td>0.72</td>\n",
       "    </tr>\n",
       "    <tr>\n",
       "      <th>4</th>\n",
       "      <td>322</td>\n",
       "      <td>110</td>\n",
       "      <td>3</td>\n",
       "      <td>3.5</td>\n",
       "      <td>2.5</td>\n",
       "      <td>8.67</td>\n",
       "      <td>1</td>\n",
       "      <td>0.80</td>\n",
       "    </tr>\n",
       "    <tr>\n",
       "      <th>5</th>\n",
       "      <td>314</td>\n",
       "      <td>103</td>\n",
       "      <td>2</td>\n",
       "      <td>2.0</td>\n",
       "      <td>3.0</td>\n",
       "      <td>8.21</td>\n",
       "      <td>0</td>\n",
       "      <td>0.65</td>\n",
       "    </tr>\n",
       "  </tbody>\n",
       "</table>\n",
       "</div>"
      ],
      "text/plain": [
       "            GRE_Score  TOEFL_Score  University_Rating  SOP  LOR   CGPA  \\\n",
       "Serial No.                                                               \n",
       "1                 337          118                  4  4.5   4.5  9.65   \n",
       "2                 324          107                  4  4.0   4.5  8.87   \n",
       "3                 316          104                  3  3.0   3.5  8.00   \n",
       "4                 322          110                  3  3.5   2.5  8.67   \n",
       "5                 314          103                  2  2.0   3.0  8.21   \n",
       "\n",
       "            Research  Chance_of_Admit  \n",
       "Serial No.                             \n",
       "1                  1             0.92  \n",
       "2                  1             0.76  \n",
       "3                  1             0.72  \n",
       "4                  1             0.80  \n",
       "5                  0             0.65  "
      ]
     },
     "execution_count": 26,
     "metadata": {},
     "output_type": "execute_result"
    }
   ],
   "source": [
    "# Codes below will work for both Google Colab and Jupyter Notebook.\n",
    "import numpy as np\n",
    "import pandas as pd\n",
    "import random\n",
    "from sklearn import linear_model\n",
    "from sklearn.metrics import mean_absolute_error, mean_squared_error\n",
    "from sklearn.linear_model import LogisticRegression\n",
    "\n",
    "## Load the dataset into pandas DataFrame\n",
    "df = pd.read_csv('Admission.csv', index_col=0)\n",
    "df = df.replace([np.inf, -np.inf], np.nan) # \n",
    "df = df.fillna(0) # Replace all the NaN values with 0\n",
    "#first 5 rows in this file\n",
    "df.head() "
   ]
  },
  {
   "cell_type": "code",
   "execution_count": 34,
   "metadata": {
    "id": "S3TfR0i4G2rO"
   },
   "outputs": [
    {
     "name": "stdout",
     "output_type": "stream",
     "text": [
      "[[ 1.52725374  2.0917706   1.61594354  0.63150829  1.72829095  2.11370277\n",
      "   0.90453403]\n",
      " [ 0.74180896  0.46308859 -0.9310778  -0.35266047 -1.04140609  0.29488827\n",
      "   0.90453403]\n",
      " [ 0.56726568  0.13735218  1.61594354  0.63150829  0.62041214  0.26211684\n",
      "   0.90453403]\n",
      " [-0.39272239 -0.51412062 -0.08207069  0.13942391  0.62041214 -0.80295471\n",
      "  -1.1055416 ]\n",
      " [ 0.47999403  0.78882499  0.76693642  1.12359267  1.17435154  1.11417408\n",
      "   0.90453403]]\n"
     ]
    }
   ],
   "source": [
    "from sklearn.model_selection import train_test_split\n",
    "from sklearn.preprocessing import StandardScaler\n",
    "\n",
    "y = df['Chance_of_Admit'].to_numpy()  # The column named Chance_of_Admit is used as the target, and we store it in y\n",
    "X = df.drop(['Chance_of_Admit'], axis=1)  # We keep the remaining columns as the features, and store them in x\n",
    "#Splitting data into test and train\n",
    "X_train, X_test, y_train, y_test = train_test_split(X, y, test_size=0.25, random_state=50)\n",
    "\n",
    "#To scale input data\n",
    "scaler = StandardScaler()\n",
    "X_train_scaled = scaler.fit_transform(X_train)\n",
    "X_test_scaled = scaler.transform(X_test)\n",
    "\n",
    "#Printing training data top 5 rows\n",
    "print(X_train_scaled[0:5])"
   ]
  },
  {
   "cell_type": "markdown",
   "metadata": {},
   "source": [
    "2)(5 pts) Use sklearn.linear_model.Lasso and sklearn.linear_model.Ridge classes to do a 5-fold cross validation using sklearn's KFold. For the sweep of the regularization parameter, we will look at a grid of values ranging from α=10^10 to α=10^−6. In Python, you can consider this range of values as follows: alpha = 10**numpy.linspace(6,-6,100) so that you can generate 100 uniform values between -6 to 6 as power series.\n",
    "\n",
    "Fit the 2 regression models with scaled data and report the best chosen α based on cross validation as well as the corresponding scoring metric. The cross validation should happen on your training data using MSE as the scoring metric."
   ]
  },
  {
   "cell_type": "code",
   "execution_count": 35,
   "metadata": {},
   "outputs": [
    {
     "name": "stdout",
     "output_type": "stream",
     "text": [
      "Best alpha for Ridge= 4.641588833612772 with the resulting MSE of 0.004118013884240708\n",
      "Best alpha for Lasso= 0.001072267222010321 with the resulting MSE of 0.004098425318055381\n"
     ]
    }
   ],
   "source": [
    "from sklearn.linear_model import Lasso, Ridge \n",
    "from sklearn.model_selection import KFold\n",
    "from sklearn.model_selection import cross_val_score\n",
    "\n",
    "#k-fold cross validation\n",
    "k =5\n",
    "kf = KFold(n_splits = k, random_state = None)\n",
    "alpha = 10**np.linspace(6,-6,100)\n",
    "\n",
    "result_ridge = []\n",
    "result_lasso = []\n",
    "\n",
    "for a in alpha:\n",
    "    ridge = linear_model.Ridge(alpha=a)\n",
    "    res = cross_val_score(ridge , X_train_scaled, y_train, cv = 5, scoring='neg_mean_squared_error')\n",
    "    lasso = linear_model.Lasso(alpha=a)\n",
    "    res2 = cross_val_score(lasso, X_train_scaled, y_train, cv = 5, scoring='neg_mean_squared_error')\n",
    "    result_ridge.append(res.mean())\n",
    "    result_lasso.append(res2.mean())\n",
    "\n",
    "best_alpha_ridge = alpha[np.argmax(result_ridge)]\n",
    "best_alpha_lasso = alpha[np.argmax(result_lasso)]\n",
    "\n",
    "print(f'Best alpha for Ridge= {best_alpha_ridge} with the resulting MSE of {-np.max(result_ridge)}')\n",
    "print(f'Best alpha for Lasso= {best_alpha_lasso} with the resulting MSE of {-np.max(result_lasso)}')"
   ]
  },
  {
   "cell_type": "code",
   "execution_count": 36,
   "metadata": {},
   "outputs": [
    {
     "name": "stdout",
     "output_type": "stream",
     "text": [
      "Ridge Regression scoring metrics\n",
      "R2:0.733, MSE:0.004, RMSE:0.07\n",
      "Lasso Regression scoring metrics for y\n",
      "R2:0.732, MSE:0.005, RMSE:0.07\n"
     ]
    }
   ],
   "source": [
    "# Fitting Ridge regression model with optimal alpha value\n",
    "\n",
    "ridge=linear_model.Ridge(alpha=4.64)\n",
    "ridge.fit(X_train_scaled,y_train)\n",
    "ypred_ridge = ridge.predict(X_test_scaled)\n",
    "score_ridge = ridge.score(X_test_scaled,y_test)\n",
    "mse_ridge = mean_squared_error(y_test,ypred_ridge)\n",
    "print(\"Ridge Regression scoring metrics\")\n",
    "print(\"R2:{0:.3f}, MSE:{1:.3f}, RMSE:{2:.2f}\".format(score_ridge, mse_ridge,np.sqrt(mse_ridge))) \n",
    "\n",
    "# Fitting Lasso regression model with optimal alpha value\n",
    "\n",
    "lasso=linear_model.Lasso(alpha=0.001)\n",
    "lasso.fit(X_train_scaled,y_train)\n",
    "ypred_lasso = lasso.predict(X_test_scaled)\n",
    "score_lasso = lasso.score(X_test_scaled,y_test)\n",
    "mse_lasso = mean_squared_error(y_test,ypred_lasso)\n",
    "print(\"Lasso Regression scoring metrics for y\")\n",
    "print(\"R2:{0:.3f}, MSE:{1:.3f}, RMSE:{2:.2f}\".format(score_lasso, mse_lasso,np.sqrt(mse_lasso))) "
   ]
  },
  {
   "cell_type": "markdown",
   "metadata": {},
   "source": [
    "3)(5 pts) Run ridge and lasso regression for all of the α specified above (on training data), and plot the coefficients learned for each of them - there should be one plot each for lasso and ridge, so a total of two plots; different features' weights of each model should be on the same plot with different colors (3pts)."
   ]
  },
  {
   "cell_type": "code",
   "execution_count": 43,
   "metadata": {},
   "outputs": [
    {
     "data": {
      "image/png": "[encoded data removed]",
      "text/plain": [
       "<Figure size 432x288 with 1 Axes>"
      ]
     },
     "metadata": {
      "needs_background": "light"
     },
     "output_type": "display_data"
    }
   ],
   "source": [
    "import matplotlib.pyplot as plt\n",
    "%matplotlib inline\n",
    "\n",
    "############## Ridge Regression##############\n",
    "\n",
    "#Storing coefficients in a list\n",
    "coeffs_array = []\n",
    "\n",
    "\n",
    "for a in alpha:\n",
    "    ridge=linear_model.Ridge(alpha=a, fit_intercept=False)\n",
    "    ridge.fit(X_train_scaled, y_train)\n",
    "    coeffs_array.append(ridge.coef_)\n",
    "\n",
    "ax = plt.gca()\n",
    "\n",
    "#Plotting graph\n",
    "ax.plot(alpha, coeffs_array)\n",
    "ax.set_xscale('log')\n",
    "ax.set_xlim(ax.get_xlim()[::-1])\n",
    "ax.legend(X.columns.values,loc='best')\n",
    "plt.xlabel('Alpha')\n",
    "plt.ylabel('coefficients')\n",
    "plt.title('Ridge regression coefficients vs alpha')\n",
    "\n",
    "# function to show the plot\n",
    "plt.show()"
   ]
  },
  {
   "cell_type": "code",
   "execution_count": 44,
   "metadata": {},
   "outputs": [
    {
     "data": {
      "image/png": "[encoded data removed]",
      "text/plain": [
       "<Figure size 432x288 with 1 Axes>"
      ]
     },
     "metadata": {
      "needs_background": "light"
     },
     "output_type": "display_data"
    }
   ],
   "source": [
    "import warnings\n",
    "warnings.filterwarnings(\"ignore\")\n",
    "\n",
    "############## lasso Regression##############\n",
    "\n",
    "#Storing coefficients in a list\n",
    "coeffs_array = []\n",
    "\n",
    "for a in alpha:\n",
    "    lasso=linear_model.Lasso(alpha=a, fit_intercept=False)\n",
    "    lasso.fit(X_train_scaled, y_train)\n",
    "    coeffs_array.append(lasso.coef_)\n",
    "\n",
    "ax = plt.gca()\n",
    "\n",
    "#Plotting graph\n",
    "ax.plot(alpha, coeffs_array)\n",
    "ax.set_xscale('log')\n",
    "ax.set_xlim(ax.get_xlim()[::-1])\n",
    "ax.legend(X.columns.values,loc='best')\n",
    "plt.xlabel('Alpha')\n",
    "plt.ylabel('coefficients')\n",
    "plt.title('Lasso regression coefficients vs alpha')\n",
    "\n",
    "# function to show the plot\n",
    "plt.show()"
   ]
  },
  {
   "cell_type": "markdown",
   "metadata": {},
   "source": [
    "4)(3 pts) Take the exponential of Y_train as the target, and fit the 2 regression models again. Report the best chosen α based on cross validation as well as the corresponding scoring metric. Compare the results of using the original target with the results of using the exponential of the target. What do you observe?"
   ]
  },
  {
   "cell_type": "code",
   "execution_count": 46,
   "metadata": {},
   "outputs": [
    {
     "name": "stdout",
     "output_type": "stream",
     "text": [
      "Regression for exponential y:\n",
      "Best alpha for Ridge= 6.135907273413176 with the resulting MSE of 0.014815008775351048\n",
      "Best alpha for Lasso= 0.0018738174228603867 with the resulting MSE of 0.01476731964422993\n"
     ]
    }
   ],
   "source": [
    "from math import exp\n",
    "\n",
    "y_train_exp = np.exp(y_train)\n",
    "y_test_exp = np.exp(y_test)\n",
    "\n",
    "#k-fold cross validation\n",
    "k =5\n",
    "kf = KFold(n_splits = k, random_state = None)\n",
    "alpha_set = 10**np.linspace(6,-6,100)\n",
    "\n",
    "result_ridge = []\n",
    "result_lasso = []\n",
    "\n",
    "for a in alpha:\n",
    "    ridge = linear_model.Ridge(alpha=a)\n",
    "    res = cross_val_score(ridge , X_train_scaled, y_train_exp, cv = 5, scoring='neg_mean_squared_error')\n",
    "    lasso = linear_model.Lasso(alpha=a)\n",
    "    res2 = cross_val_score(lasso, X_train_scaled, y_train_exp, cv = 5, scoring='neg_mean_squared_error')\n",
    "    result_ridge.append(res.mean())\n",
    "    result_lasso.append(res2.mean())\n",
    "\n",
    "best_alpha_ridge = alpha[np.argmax(result_ridge)]\n",
    "best_alpha_lasso = alpha[np.argmax(result_lasso)]\n",
    "\n",
    "print(\"Regression for exponential y:\")\n",
    "print(f'Best alpha for Ridge= {best_alpha_ridge} with the resulting MSE of {-np.max(result_ridge)}')\n",
    "print(f'Best alpha for Lasso= {best_alpha_lasso} with the resulting MSE of {-np.max(result_lasso)}')"
   ]
  },
  {
   "cell_type": "code",
   "execution_count": 50,
   "metadata": {},
   "outputs": [
    {
     "name": "stdout",
     "output_type": "stream",
     "text": [
      "Regression exp(y)~X:\n",
      "\n",
      "\n",
      "Ridge Regression scoring metrics for best alpha\n",
      "R2:0.733, MSE:0.004, RMSE:0.067\n",
      "Lasso Regression scoring metrics for best alpha\n",
      "R2:0.732, MSE:0.005, RMSE:0.067\n"
     ]
    }
   ],
   "source": [
    "# Fitting Ridge regression model with optimal alpha value\n",
    "\n",
    "ridge=linear_model.Ridge(alpha=6.136)\n",
    "ridge.fit(X_train_scaled,y_train)\n",
    "ypred_ridge = ridge.predict(X_test_scaled)\n",
    "score_ridge = ridge.score(X_test_scaled,y_test)\n",
    "mse_ridge = mean_squared_error(y_test,ypred_ridge)\n",
    "print(\"Regression exp(y)~X:\")\n",
    "print(\"\\n\")\n",
    "print(\"Ridge Regression scoring metrics for best alpha\")\n",
    "print(\"R2:{0:.3f}, MSE:{1:.3f}, RMSE:{2:.3f}\".format(score_ridge, mse_ridge,np.sqrt(mse_ridge))) \n",
    "\n",
    "# Fitting Lasso regression model with optimal alpha value\n",
    "\n",
    "lasso=linear_model.Lasso(alpha=0.0018)\n",
    "lasso.fit(X_train_scaled,y_train)\n",
    "ypred_lasso = lasso.predict(X_test_scaled)\n",
    "score_lasso = lasso.score(X_test_scaled,y_test)\n",
    "mse_lasso = mean_squared_error(y_test,ypred_lasso)\n",
    "print(\"Lasso Regression scoring metrics for best alpha\")\n",
    "print(\"R2:{0:.3f}, MSE:{1:.3f}, RMSE:{2:.3f}\".format(score_lasso, mse_lasso,np.sqrt(mse_lasso))) "
   ]
  },
  {
   "cell_type": "markdown",
   "metadata": {},
   "source": [
    "5)(5 pts) Similarly, use sklearn.linear_model.ElasticNet to do linear regression with different α values, and plot the coefficients learned for each of them (2pts). Observe the plot, then explain the pros and cons of ridge, lasso and Elastic Net models (3pts)."
   ]
  },
  {
   "cell_type": "code",
   "execution_count": 51,
   "metadata": {},
   "outputs": [
    {
     "name": "stdout",
     "output_type": "stream",
     "text": [
      "Best alpha for Ridge= 0.0032745491628777316 with the resulting MSE of 0.014764717685705161\n"
     ]
    }
   ],
   "source": [
    "result_elasticnet = []\n",
    "\n",
    "for a in alpha:\n",
    "    en = linear_model.ElasticNet(alpha=a)\n",
    "    res = cross_val_score(en , X_train_scaled, y_train_exp, cv = 5, scoring='neg_mean_squared_error')\n",
    "    result_elasticnet.append(res.mean())\n",
    "    \n",
    "\n",
    "best_alpha_elasticnet = alpha[np.argmax(result_elasticnet)]\n",
    "\n",
    "print(f'Best alpha for Ridge= {best_alpha_elasticnet} with the resulting MSE of {-np.max(result_elasticnet)}')\n"
   ]
  },
  {
   "cell_type": "code",
   "execution_count": 48,
   "metadata": {},
   "outputs": [
    {
     "data": {
      "image/png": "[encoded data removed]",
      "text/plain": [
       "<Figure size 432x288 with 1 Axes>"
      ]
     },
     "metadata": {
      "needs_background": "light"
     },
     "output_type": "display_data"
    }
   ],
   "source": [
    "from sklearn.linear_model import ElasticNet\n",
    "############## Elastic Net ##############\n",
    "\n",
    "#Storing coefficients in a list\n",
    "coeffs_array = []\n",
    "\n",
    "for a in alpha:\n",
    "    en=linear_model.ElasticNet(alpha=a, fit_intercept=False)\n",
    "    en.fit(X_train_scaled, y_train)\n",
    "    coeffs_array.append(en.coef_)\n",
    "\n",
    "ax = plt.gca()\n",
    "\n",
    "#Plotting graph\n",
    "ax.plot(alpha, coeffs_array)\n",
    "ax.set_xscale('log')\n",
    "ax.set_xlim(ax.get_xlim()[::-1])\n",
    "ax.legend(X.columns.values,loc='best')\n",
    "plt.xlabel('Alpha')\n",
    "plt.ylabel('coefficients')\n",
    "plt.title('Elastic Net regression coefficients vs alpha')\n",
    "\n",
    "# function to show the plot\n",
    "plt.show()"
   ]
  },
  {
   "cell_type": "markdown",
   "metadata": {},
   "source": [
    "By comparing  MSEs of  Ridge, Lasso and ElasticNet for admissions data, we can observe that ElasticNet performance in between Lasso and Ridge. From the graphs Lasso and Elastic Net are very similar. Overall, Lasso has the least MSE, although marginally different from other two models.\n",
    "\n",
    "In Ridge regression, the loss function is the linear least square’s function and regularization is given by the L2-norm. Ridge regression enforces the β coefficients to be lower (punishes very large weights), however it doesn't enforce them to be 0. That is, it will not get rid of irrelevant features but rather minimize their impact on the trained model.\n",
    "\n",
    "Lasso method overcomes the disadvantage of Ridge regression by not only punishing high values of the coefficients β, but actually setting them to zero if they are not relevant. Therefore, we might end up with fewer features included in the model than we started with, which is a huge advantage. In other words,lasso regression finds the most important parameters to fit the model. \n",
    "\n",
    "Elastic Net combines characteristics of both lasso and ridge, uses both L1 and L2 regularizations to produce most optimized output. It reduces the impact of different features while not eliminating all of the features. However it is computationally expensive as we need to optimize two hyperparameters.\n",
    "\n",
    "\n",
    "Ridge Regression: \n",
    "\n",
    "    Pros:\n",
    "* Ridge regression has an advantage over least squares which is rooted in the bias-variance trade-off. As λ increases, the flexibility of the ridge regression fit decreases, leading to decreased variance but increased bias. \n",
    "* Computationally faster \n",
    "* Prevents over-fitting \n",
    "\n",
    "    Cons:\n",
    "* It does not reduce the number of variables, because though it shrinks the coefficients, it does not reduce them to zero. This may not be a problem for prediction accuracy, but it can create a challenge in model interpretation in settings in which the number of variables p is quite large.\n",
    "*  Not preferred when the solution is believed to have sparse features because L1 regularization promotes sparsity \n",
    "\n",
    "\n",
    "Lasso Regression: \n",
    "\n",
    "    Pros: \n",
    "*  Variable selection is better than usual methods such as forward, backward and stepwise\n",
    "*  Selects features, by shrinking the co-efficient towards zero, thereby reducing the complexity of the model \n",
    "*  Avoids over fitting \n",
    "\n",
    "    Cons:\n",
    "*  If the number of predictors is greater than the number of observations, Lasso will pick at most n predictors as non-zero, even if all predictors are relevant\n",
    "* If there are two or more highly collinear variables, then Lasso regression selects one of them randomly which is not good for the interpretation of data\n",
    "\n",
    "\n",
    "\n",
    "For Elastic-Net: \n",
    "\n",
    "    Pros:\n",
    "*  It has the best of both ridge and lasso \n",
    "*  Elastic Net is preferred over Lasso because it can deal with situations when the #features is greater than the #samples, and with correlated features\n",
    "\n",
    "    Cons:\n",
    "*  Computationally it is more expensive than either one \n"
   ]
  },
  {
   "cell_type": "markdown",
   "metadata": {},
   "source": [
    "6)(5 pts) Run the following three regression models with MSE loss on the training data:\n",
    "    a. linear regression without regularization (1pts)\n",
    "    b. linear regression with ridge regularization (2pts)\n",
    "    c. linear regression with lasso regularization (2pts)\n",
    "For part (b) and (c), use only the best regularization parameters. Report the MSE and R2 on the test data for each model.\n"
   ]
  },
  {
   "cell_type": "code",
   "execution_count": 181,
   "metadata": {},
   "outputs": [
    {
     "name": "stdout",
     "output_type": "stream",
     "text": [
      "Linear Regression scoring metrics for best alpha on training data\n",
      "R2:0.819, MSE:0.004, RMSE:0.06\n",
      "Linear Regression scoring metrics for best alpha on test data\n",
      "MSE:0.005, RMSE:0.07\n"
     ]
    }
   ],
   "source": [
    "from sklearn.linear_model import LinearRegression\n",
    "\n",
    "model = LinearRegression()\n",
    "model.fit(X_train_scaled, y_train)\n",
    "score = model.score(X_train_scaled, y_train)\n",
    "pred_y = model.predict(X_train_scaled)\n",
    "mse = mean_squared_error(y_train, pred_y) \n",
    "print(\"Linear Regression scoring metrics for best alpha on training data\")\n",
    "print(\"R2:{0:.3f}, MSE:{1:.3f}, RMSE:{2:.2f}\".format(score, mse,np.sqrt(mse)))\n",
    "\n",
    "#Running model on Test data \n",
    "pred_y_test = model.predict(X_test_scaled)\n",
    "mse_test = mean_squared_error(y_test, pred_y_test) \n",
    "print(\"Linear Regression scoring metrics for best alpha on test data\")\n",
    "print(\"MSE:{0:.3f}, RMSE:{1:.2f}\".format(mse_test,np.sqrt(mse_test)))\n",
    "\n"
   ]
  },
  {
   "cell_type": "code",
   "execution_count": 184,
   "metadata": {},
   "outputs": [
    {
     "name": "stdout",
     "output_type": "stream",
     "text": [
      "Lasso Regression scoring metrics for best alpha on training data\n",
      "R2:0.813, MSE:0.004, RMSE:0.06\n",
      "Lasso Regression scoring metrics for best alpha on test data\n",
      "MSE:0.005, RMSE:0.07\n"
     ]
    }
   ],
   "source": [
    "############## Ridge Regression ##############\n",
    "ridge = linear_model.Ridge(alpha=44)\n",
    "ridge.fit(X_train_scaled, y_train)\n",
    "score = ridge.score(X_train_scaled, y_train)\n",
    "pred_y = ridge.predict(X_train_scaled)\n",
    "mse = mean_squared_error(y_train, pred_y) \n",
    "print(\"Ridge Regression scoring metrics for best alpha on training data\")\n",
    "print(\"R2:{0:.3f}, MSE:{1:.3f}, RMSE:{2:.2f}\".format(score, mse,np.sqrt(mse)))\n",
    "\n",
    "#Running model on Test data \n",
    "pred_y_test = ridge.predict(X_test_scaled)\n",
    "mse_test = mean_squared_error(y_test, pred_y_test) \n",
    "print(\"Ridge Regression scoring metrics for best alpha on test data\")\n",
    "print(\"MSE:{0:.3f}, RMSE:{1:.2f}\".format(mse_test,np.sqrt(mse_test)))"
   ]
  },
  {
   "cell_type": "code",
   "execution_count": 185,
   "metadata": {},
   "outputs": [
    {
     "name": "stdout",
     "output_type": "stream",
     "text": [
      "Lasso Regression scoring metrics for best alpha on training data\n",
      "R2:-0.021, MSE:0.017, RMSE:0.13\n",
      "Lasso Regression scoring metrics for best alpha on test data\n",
      "MSE:0.017, RMSE:0.13\n"
     ]
    }
   ],
   "source": [
    "############## Lasso Regression ##############\n",
    "lasso=linear_model.Lasso(alpha=74)\n",
    "lasso.fit(X_train_scaled,y_train)\n",
    "ypred = lasso.predict(X_test_scaled)\n",
    "score = lasso.score(X_test_scaled,y_test)\n",
    "mse = mean_squared_error(y_test,ypred)\n",
    "print(\"Lasso Regression scoring metrics for best alpha on training data\")\n",
    "print(\"R2:{0:.3f}, MSE:{1:.3f}, RMSE:{2:.2f}\".format(score, mse,np.sqrt(mse))) \n",
    "\n",
    "#Running model on Test data \n",
    "pred_y_test = lasso.predict(X_test_scaled)\n",
    "mse_test = mean_squared_error(y_test, pred_y_test) \n",
    "print(\"Lasso Regression scoring metrics for best alpha on test data\")\n",
    "print(\"MSE:{0:.3f}, RMSE:{1:.2f}\".format(mse_test,np.sqrt(mse_test)))"
   ]
  },
  {
   "cell_type": "markdown",
   "metadata": {},
   "source": [
    "7)(5 pts) Train the 3 models and report the metrics with the original data without scaling (3pts).\n",
    "Why do we need to scale the data before regularization (2pts)?\n"
   ]
  },
  {
   "cell_type": "code",
   "execution_count": 186,
   "metadata": {},
   "outputs": [
    {
     "name": "stdout",
     "output_type": "stream",
     "text": [
      "Linear Regression scoring metrics for best alpha on training data\n",
      "R2:0.819, MSE:0.004, RMSE:0.06\n",
      "Linear Regression scoring metrics for best alpha on test data\n",
      "MSE:0.005, RMSE:0.07\n"
     ]
    }
   ],
   "source": [
    "from sklearn.linear_model import LinearRegression\n",
    "\n",
    "model = LinearRegression()\n",
    "model.fit(X_train, y_train)\n",
    "score = model.score(X_train, y_train)\n",
    "pred_y = model.predict(X_train)\n",
    "mse = mean_squared_error(y_train, pred_y) \n",
    "print(\"Linear Regression scoring metrics for best alpha on training data\")\n",
    "print(\"R2:{0:.3f}, MSE:{1:.3f}, RMSE:{2:.2f}\".format(score, mse,np.sqrt(mse)))\n",
    "\n",
    "#Running model on Test data \n",
    "pred_y_test = model.predict(X_test)\n",
    "mse_test = mean_squared_error(y_test, pred_y_test) \n",
    "print(\"Linear Regression scoring metrics for best alpha on test data\")\n",
    "print(\"MSE:{0:.3f}, RMSE:{1:.2f}\".format(mse_test,np.sqrt(mse_test)))"
   ]
  },
  {
   "cell_type": "code",
   "execution_count": 187,
   "metadata": {},
   "outputs": [
    {
     "name": "stdout",
     "output_type": "stream",
     "text": [
      "Ridge Regression scoring metrics for best alpha on training data\n",
      "R2:0.796, MSE:0.004, RMSE:0.07\n",
      "Ridge Regression scoring metrics for best alpha on test data\n",
      "MSE:0.005, RMSE:0.07\n"
     ]
    }
   ],
   "source": [
    "############## Ridge Regression ##############\n",
    "ridge = linear_model.Ridge(alpha=44)\n",
    "ridge.fit(X_train, y_train)\n",
    "score = ridge.score(X_train, y_train)\n",
    "pred_y = ridge.predict(X_train)\n",
    "mse = mean_squared_error(y_train, pred_y) \n",
    "print(\"Ridge Regression scoring metrics for best alpha on training data\")\n",
    "print(\"R2:{0:.3f}, MSE:{1:.3f}, RMSE:{2:.2f}\".format(score, mse,np.sqrt(mse)))\n",
    "\n",
    "#Running model on Test data \n",
    "pred_y_test = ridge.predict(X_test)\n",
    "mse_test = mean_squared_error(y_test, pred_y_test) \n",
    "print(\"Ridge Regression scoring metrics for best alpha on test data\")\n",
    "print(\"MSE:{0:.3f}, RMSE:{1:.2f}\".format(mse_test,np.sqrt(mse_test)))"
   ]
  },
  {
   "cell_type": "code",
   "execution_count": 188,
   "metadata": {},
   "outputs": [
    {
     "name": "stdout",
     "output_type": "stream",
     "text": [
      "Lasso Regression scoring metrics for best alpha on training data\n",
      "R2:-0.021, MSE:0.017, RMSE:0.13\n",
      "Lasso Regression scoring metrics for best alpha on test data\n",
      "MSE:0.017, RMSE:0.13\n"
     ]
    }
   ],
   "source": [
    "############## Lasso Regression ##############\n",
    "lasso=linear_model.Lasso(alpha=74)\n",
    "lasso.fit(X_train,y_train)\n",
    "ypred = lasso.predict(X_test)\n",
    "score = lasso.score(X_test,y_test)\n",
    "mse = mean_squared_error(y_test,ypred)\n",
    "print(\"Lasso Regression scoring metrics for best alpha on training data\")\n",
    "print(\"R2:{0:.3f}, MSE:{1:.3f}, RMSE:{2:.2f}\".format(score, mse,np.sqrt(mse))) \n",
    "\n",
    "#Running model on Test data \n",
    "pred_y_test = lasso.predict(X_test)\n",
    "mse_test = mean_squared_error(y_test, pred_y_test) \n",
    "print(\"Lasso Regression scoring metrics for best alpha on test data\")\n",
    "print(\"MSE:{0:.3f}, RMSE:{1:.2f}\".format(mse_test,np.sqrt(mse_test)))"
   ]
  },
  {
   "cell_type": "markdown",
   "metadata": {},
   "source": [
    "#Why Scaling?\n",
    "\n",
    "The concept of standardization comes into picture when continuous independent variables are measured at different scales. It means these variables do not give equal contribution to the analysis. We do scaling to rescale an original variable to have equal range and/or variance. The reason to normalise independent variables beforehand is to ensure that the regularisation term regularises/affects the variable involved in a (somewhat) similar manner.\n",
    "\n",
    "It is necessary to standardize variables before using Lasso and Ridge Regression. Lasso regression puts constraints on the size of the coefficients associated to each variable. However, this value will depend on the magnitude of each variable. The result of centering the variables means that there is no longer an intercept. This applies equally to ridge regression."
   ]
  }
 ],
 "metadata": {
  "colab": {
   "collapsed_sections": [],
   "name": "MIS 382N - HW1.ipynb",
   "provenance": []
  },
  "kernelspec": {
   "display_name": "Python 3",
   "language": "python",
   "name": "python3"
  },
  "language_info": {
   "codemirror_mode": {
    "name": "ipython",
    "version": 3
   },
   "file_extension": ".py",
   "mimetype": "text/x-python",
   "name": "python",
   "nbconvert_exporter": "python",
   "pygments_lexer": "ipython3",
   "version": "3.8.5"
  }
 },
 "nbformat": 4,
 "nbformat_minor": 4
}
